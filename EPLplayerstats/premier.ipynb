{
 "cells": [
  {
   "cell_type": "code",
   "execution_count": 5,
   "metadata": {},
   "outputs": [
    {
     "name": "stdout",
     "output_type": "stream",
     "text": [
      "RangeIndex(start=0, stop=1311, step=1)\n",
      "             Player                     Club        born  Height Position  \\\n",
      "0  Brenden Aaronson             Leeds United  22/10/2000  178 cm       MF   \n",
      "1       Zach Abbott        Nottingham Forest  13/05/2006     173       DF   \n",
      "2      Terry Ablade                Fulham FC  12/10/2001  181 cm       FW   \n",
      "3      Adama Traoré  Wolverhampton Wanderers  25/01/1996  178 cm       FW   \n",
      "4         Ché Adams           Southampton FC  13/07/1996  179 cm       FW   \n",
      "5       Tyler Adams             Leeds United  14/02/1999  175 cm       MF   \n",
      "6  Tosin Adarabioyo                Fulham FC  24/09/1997  196 cm       DF   \n",
      "7  Adler Nascimento           Crystal Palace  25/11/2004  183 cm       FW   \n",
      "8            Adrián             Liverpool FC  03/01/1987  190 cm       GK   \n",
      "9  Daniel Adu-Adjei          AFC Bournemouth  21/06/2005     175       FW   \n",
      "\n",
      "   2021-2022  \n",
      "0  2021-2022  \n",
      "1  2021-2022  \n",
      "2  2021-2022  \n",
      "3  2021-2022  \n",
      "4  2021-2022  \n",
      "5  2021-2022  \n",
      "6  2021-2022  \n",
      "7  2021-2022  \n",
      "8  2021-2022  \n",
      "9  2021-2022  \n",
      "                    Player               Club        born  Height Position  \\\n",
      "1296           Harry Winks  Tottenham Hotspur  02/02/1996  178 cm       MF   \n",
      "1297            Henry Wise         Watford FC  01/01/2000  174 cm       MF   \n",
      "1298           Yoane Wissa       Brentford FC  03/09/1996  176 cm       FW   \n",
      "1299           Max Woltman       Liverpool FC  20/08/2003  181 cm       MF   \n",
      "1300            Chris Wood   Newcastle United  07/12/1991  191 cm       FW   \n",
      "1301          Granit Xhaka         Arsenal FC  27/09/1992  186 cm       MF   \n",
      "1302     Andrey Yarmolenko    West Ham United  23/10/1989  190 cm       FW   \n",
      "1303          Ashley Young        Aston Villa  09/07/1985  175 cm       DF   \n",
      "1304  Nathan Young-Coombes       Brentford FC  15/01/2003  175 cm       FW   \n",
      "1305         Wilfried Zaha     Crystal Palace  10/11/1992  180 cm       MF   \n",
      "1306                 Zanka       Brentford FC  23/04/1990  191 cm       DF   \n",
      "1307  Christoph Zimmermann       Norwich City  12/01/1993  194 cm       DF   \n",
      "1308   Oleksandr Zinchenko    Manchester City  15/12/1996  175 cm       DF   \n",
      "1309          Hakim Ziyech         Chelsea FC  19/03/1993  180 cm       FW   \n",
      "1310            Kurt Zouma    West Ham United  27/10/1994  190 cm       DF   \n",
      "\n",
      "      2021-2022  \n",
      "1296  2022-2023  \n",
      "1297  2022-2023  \n",
      "1298  2022-2023  \n",
      "1299  2022-2023  \n",
      "1300  2022-2023  \n",
      "1301  2022-2023  \n",
      "1302  2022-2023  \n",
      "1303  2022-2023  \n",
      "1304  2022-2023  \n",
      "1305  2022-2023  \n",
      "1306  2022-2023  \n",
      "1307  2022-2023  \n",
      "1308  2022-2023  \n",
      "1309  2022-2023  \n",
      "1310  2022-2023  \n"
     ]
    }
   ],
   "source": [
    "import pandas as pd\n",
    "import numpy as np\n",
    "df = pd.read_csv('EPLplayerstats-Sheet1.csv')\n",
    "print(df.index)\n",
    "print(df.head(10))\n",
    "print(df.tail(15))"
   ]
  }
 ],
 "metadata": {
  "kernelspec": {
   "display_name": "base",
   "language": "python",
   "name": "python3"
  },
  "language_info": {
   "codemirror_mode": {
    "name": "ipython",
    "version": 3
   },
   "file_extension": ".py",
   "mimetype": "text/x-python",
   "name": "python",
   "nbconvert_exporter": "python",
   "pygments_lexer": "ipython3",
   "version": "3.9.13"
  },
  "orig_nbformat": 4
 },
 "nbformat": 4,
 "nbformat_minor": 2
}
